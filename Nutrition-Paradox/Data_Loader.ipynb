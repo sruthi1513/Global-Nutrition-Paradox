{
 "cells": [
  {
   "cell_type": "code",
   "execution_count": 7,
   "id": "58907cd3-f6e0-4ac5-b570-d7f408fa3c9b",
   "metadata": {},
   "outputs": [
    {
     "data": {
      "text/plain": [
       "1"
      ]
     },
     "execution_count": 7,
     "metadata": {},
     "output_type": "execute_result"
    }
   ],
   "source": [
    "import pymysql\n",
    "myconnection = pymysql.connect(host='127.0.01', user='root',passwd='Sruthi@666')\n",
    "cur=myconnection.cursor()\n",
    "cur.execute(\"create database Nutrition_Paradox\")"
   ]
  },
  {
   "cell_type": "code",
   "execution_count": 11,
   "id": "a00b4480-59b0-4f2b-b1d7-c438b221c3c0",
   "metadata": {},
   "outputs": [
    {
     "data": {
      "text/plain": [
       "0"
      ]
     },
     "execution_count": 11,
     "metadata": {},
     "output_type": "execute_result"
    }
   ],
   "source": [
    "cur.execute(\"use Nutrition_Paradox\")"
   ]
  },
  {
   "cell_type": "code",
   "execution_count": 13,
   "id": "22c2fd41-4556-409b-9ca0-6cce9b1797c7",
   "metadata": {},
   "outputs": [
    {
     "data": {
      "text/plain": [
       "0"
      ]
     },
     "execution_count": 13,
     "metadata": {},
     "output_type": "execute_result"
    }
   ],
   "source": [
    "cur.execute(\"\"\" CREATE TABLE obesity(\n",
    "    Year int,\n",
    "    Sex varchar(10),\n",
    "    Mean_Estimate float,\n",
    "    LowerBound float,\n",
    "    UpperBound float,\n",
    "    Age_Group varchar(15),\n",
    "    Country varchar(80),\n",
    "    Region varchar(50),\n",
    "    CI_Width float,\n",
    "    obesity_level varchar(30)\n",
    "    )\n",
    "\"\"\")\n",
    "cur.execute(\"\"\" CREATE TABLE malnutrition(\n",
    "    Year int,\n",
    "    Sex varchar(10),\n",
    "    Mean_Estimate float,\n",
    "    LowerBound float,\n",
    "    UpperBound float,\n",
    "    Age_Group varchar(15),\n",
    "    Country varchar(80),\n",
    "    Region varchar(50),\n",
    "    CI_Width float,\n",
    "    malnutrition_level varchar(30)\n",
    "    )\n",
    "\"\"\")\n",
    "    "
   ]
  },
  {
   "cell_type": "code",
   "execution_count": 15,
   "id": "f43e9085-0ae7-457f-a21f-e9bc5d03923e",
   "metadata": {},
   "outputs": [],
   "source": [
    "myconnection.commit()"
   ]
  },
  {
   "cell_type": "code",
   "execution_count": 17,
   "id": "a95e706b-811e-4e8e-aae7-0319c58eba53",
   "metadata": {},
   "outputs": [
    {
     "name": "stdout",
     "output_type": "stream",
     "text": [
      "Requirement already satisfied: pycountry in /opt/anaconda3/lib/python3.12/site-packages (24.6.1)\n"
     ]
    }
   ],
   "source": [
    "from Data_Processing import df_obesity, df_malnutrition"
   ]
  },
  {
   "cell_type": "code",
   "execution_count": 25,
   "id": "70661086-47c7-48fa-b6a3-1c63c8c467ec",
   "metadata": {},
   "outputs": [
    {
     "data": {
      "text/plain": [
       "0"
      ]
     },
     "execution_count": 25,
     "metadata": {},
     "output_type": "execute_result"
    }
   ],
   "source": [
    "cur.execute(\"ALTER TABLE obesity MODIFY COLUMN Age_Group VARCHAR(30);\")\n",
    "cur.execute(\"ALTER TABLE malnutrition MODIFY COLUMN Age_Group VARCHAR(30);\")"
   ]
  },
  {
   "cell_type": "code",
   "execution_count": 27,
   "id": "a91588c0-1884-464c-9608-5ae889b9625c",
   "metadata": {},
   "outputs": [],
   "source": [
    "for index, row in df_obesity.iterrows():\n",
    "    insert_values = \"\"\"INSERT INTO obesity\n",
    "                       (Year, Sex, Mean_Estimate, LowerBound, UpperBound, Age_Group, Country, Region, CI_Width, obesity_level)\n",
    "                       VALUES (%s, %s, %s, %s, %s, %s, %s, %s, %s, %s)\n",
    "                    \"\"\"\n",
    "    cur.execute(insert_values, (\n",
    "        int(row['Year']),\n",
    "        row['Sex'],\n",
    "        float(row['Mean_Estimate']),\n",
    "        float(row['LowerBound']),\n",
    "        float(row['UpperBound']),\n",
    "        row['Age_Group'],\n",
    "        row['Country'],\n",
    "        row['Region'],\n",
    "        float(row['CI_Width']),\n",
    "        row['obesity_level']\n",
    "    ))\n",
    "\n",
    "for index, row in df_malnutrition.iterrows():\n",
    "    insert_values = \"\"\"INSERT INTO malnutrition\n",
    "                       (Year, Sex, Mean_Estimate, LowerBound, UpperBound, Age_Group, Country, Region, CI_Width, malnutrition_level)\n",
    "                       VALUES (%s, %s, %s, %s, %s, %s, %s, %s, %s, %s)\n",
    "                    \"\"\"\n",
    "    cur.execute(insert_values, (\n",
    "        int(row['Year']),\n",
    "        row['Sex'],\n",
    "        float(row['Mean_Estimate']),\n",
    "        float(row['LowerBound']),\n",
    "        float(row['UpperBound']),\n",
    "        row['Age_Group'],\n",
    "        row['Country'],\n",
    "        row['Region'],\n",
    "        float(row['CI_Width']),\n",
    "        row['malnutrition_level']\n",
    "    ))\n",
    "\n",
    "myconnection.commit()"
   ]
  },
  {
   "cell_type": "code",
   "execution_count": null,
   "id": "906164be-62c7-447b-b58a-40f00e5c0b4b",
   "metadata": {},
   "outputs": [],
   "source": []
  },
  {
   "cell_type": "code",
   "execution_count": null,
   "id": "cc7c5295-46cc-4a8c-834f-03399fd52dc2",
   "metadata": {},
   "outputs": [],
   "source": []
  }
 ],
 "metadata": {
  "kernelspec": {
   "display_name": "Python [conda env:base] *",
   "language": "python",
   "name": "conda-base-py"
  },
  "language_info": {
   "codemirror_mode": {
    "name": "ipython",
    "version": 3
   },
   "file_extension": ".py",
   "mimetype": "text/x-python",
   "name": "python",
   "nbconvert_exporter": "python",
   "pygments_lexer": "ipython3",
   "version": "3.12.7"
  }
 },
 "nbformat": 4,
 "nbformat_minor": 5
}
