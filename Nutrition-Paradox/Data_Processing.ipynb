{
 "cells": [
  {
   "cell_type": "code",
   "execution_count": 5,
   "id": "07ec346e-730b-4d69-b7a7-829611bf1996",
   "metadata": {},
   "outputs": [],
   "source": [
    "import pandas as pd\n",
    "import requests"
   ]
  },
  {
   "cell_type": "code",
   "execution_count": 7,
   "id": "10b2fba5-dbb1-4715-a4f7-1c03cdeaa1a1",
   "metadata": {},
   "outputs": [],
   "source": [
    "adult_obesity_json = requests.get(\"https://ghoapi.azureedge.net/api/NCD_BMI_30C\").json()\n",
    "child_obesity_json = requests.get(\"https://ghoapi.azureedge.net/api/NCD_BMI_PLUS2C\").json()\n",
    "adult_underweight_json = requests.get(\"https://ghoapi.azureedge.net/api/NCD_BMI_18C\").json()\n",
    "child_thinness_json = requests.get(\"https://ghoapi.azureedge.net/api/NCD_BMI_MINUS2C\").json()"
   ]
  },
  {
   "cell_type": "code",
   "execution_count": 9,
   "id": "0f184ccc-def0-4c90-83a7-6f871d48ea59",
   "metadata": {},
   "outputs": [],
   "source": [
    "adult_obesity = pd.json_normalize(adult_obesity_json['value'])\n",
    "child_obesity = pd.json_normalize(child_obesity_json['value'])\n",
    "adult_underweight = pd.json_normalize(adult_underweight_json['value'])\n",
    "child_thinness = pd.json_normalize(child_thinness_json['value'])"
   ]
  },
  {
   "cell_type": "code",
   "execution_count": 11,
   "id": "121bbda2-2d0a-4a81-a801-f5a0a20f4933",
   "metadata": {},
   "outputs": [],
   "source": [
    "adult_obesity['age_group'] = 'Adult'\n",
    "child_obesity['age_group'] = 'Child/Adolescent'\n",
    "adult_underweight['age_group'] = 'Adult'\n",
    "child_thinness['age_group'] = 'Child/Adolescent'"
   ]
  },
  {
   "cell_type": "code",
   "execution_count": 13,
   "id": "f4b618b7-ba7e-4fdd-8ed1-9c0f8109cf0c",
   "metadata": {},
   "outputs": [],
   "source": [
    "df_obesity = pd.concat([adult_obesity, child_obesity], ignore_index=True)\n",
    "df_malnutrition = pd.concat([adult_underweight, child_thinness], ignore_index=True)"
   ]
  },
  {
   "cell_type": "code",
   "execution_count": 15,
   "id": "73b00c15-4fac-4f89-a0c5-fe3abe7a4ec8",
   "metadata": {},
   "outputs": [],
   "source": [
    "df_obesity['TimeDim'] = pd.to_numeric(df_obesity['TimeDim'] , errors = 'coerce')\n",
    "df_malnutrition['TimeDim'] = pd.to_numeric(df_malnutrition['TimeDim'] , errors = 'coerce')"
   ]
  },
  {
   "cell_type": "code",
   "execution_count": 17,
   "id": "69f010ee-0e4d-4700-aac7-390369e0b794",
   "metadata": {},
   "outputs": [],
   "source": [
    "df_obesity = df_obesity[(df_obesity['TimeDim'] >= 2012) &  (df_obesity['TimeDim'] <= 2022)]\n",
    "df_malnutrition = df_malnutrition[(df_malnutrition['TimeDim'] >= 2012) &  (df_malnutrition['TimeDim'] <= 2022)]"
   ]
  },
  {
   "cell_type": "code",
   "execution_count": 19,
   "id": "965e75cb-799b-4239-8bb9-740de3ca7a99",
   "metadata": {},
   "outputs": [],
   "source": [
    "columns_needed = [\n",
    "    'ParentLocation', \n",
    "    'Dim1', \n",
    "    'TimeDim',\n",
    "    'Low', \n",
    "    'High', \n",
    "    'NumericValue', \n",
    "    'SpatialDim',\n",
    "    'age_group'\n",
    "]\n",
    "\n",
    "df_obesity = df_obesity[columns_needed].copy()\n",
    "df_malnutrition = df_malnutrition[columns_needed].copy()"
   ]
  },
  {
   "cell_type": "code",
   "execution_count": 21,
   "id": "0f0cbdd3-3740-4475-a876-e13f797b4b9e",
   "metadata": {},
   "outputs": [],
   "source": [
    "rename_columns_map = {\n",
    "    'TimeDim' : 'Year',\n",
    "    'Dim1' : 'Sex',\n",
    "    'NumericValue' : 'Mean_Estimate',\n",
    "    'Low' : 'LowerBound',\n",
    "    'High' : 'UpperBound',\n",
    "    'ParentLocation' : 'Region',\n",
    "    'SpatialDim' : 'Country',\n",
    "    'age_group' : 'Age_Group'\n",
    "}\n",
    "\n",
    "df_obesity.rename(columns=rename_columns_map, inplace=True)\n",
    "df_malnutrition.rename(columns=rename_columns_map, inplace=True)"
   ]
  },
  {
   "cell_type": "code",
   "execution_count": 23,
   "id": "c1081088-dade-46d3-80c2-5f6d25806967",
   "metadata": {},
   "outputs": [
    {
     "data": {
      "text/plain": [
       "array(['SEX_MLE', 'SEX_FMLE', 'SEX_BTSX'], dtype=object)"
      ]
     },
     "execution_count": 23,
     "metadata": {},
     "output_type": "execute_result"
    }
   ],
   "source": [
    "df_obesity['Sex'].unique()"
   ]
  },
  {
   "cell_type": "code",
   "execution_count": 25,
   "id": "7a86579d-d7ca-4a2c-b9fc-35397866ddff",
   "metadata": {},
   "outputs": [
    {
     "data": {
      "text/plain": [
       "array(['SEX_MLE', 'SEX_FMLE', 'SEX_BTSX'], dtype=object)"
      ]
     },
     "execution_count": 25,
     "metadata": {},
     "output_type": "execute_result"
    }
   ],
   "source": [
    "df_malnutrition['Sex'].unique()"
   ]
  },
  {
   "cell_type": "code",
   "execution_count": 27,
   "id": "f4e6b33c-f1c7-4b66-9287-c0dc29e8d4e0",
   "metadata": {},
   "outputs": [],
   "source": [
    "gender_map = {\n",
    "    'SEX_MLE' : 'Male',\n",
    "    'SEX_FMLE' : 'Female',\n",
    "    'SEX_BTSX' : 'Both'\n",
    "}\n",
    "\n",
    "df_obesity['Sex'] = df_obesity['Sex'].map(gender_map).fillna('Other')\n",
    "df_malnutrition['Sex'] = df_malnutrition['Sex'].map(gender_map).fillna('Other')"
   ]
  },
  {
   "cell_type": "code",
   "execution_count": 29,
   "id": "2ec5efcb-012a-455f-8634-1dd2bb67953d",
   "metadata": {},
   "outputs": [
    {
     "name": "stdout",
     "output_type": "stream",
     "text": [
      "Requirement already satisfied: pycountry in /opt/anaconda3/lib/python3.12/site-packages (24.6.1)\n"
     ]
    }
   ],
   "source": [
    "!pip install pycountry\n",
    "import pycountry"
   ]
  },
  {
   "cell_type": "code",
   "execution_count": 31,
   "id": "93132d3d-eb18-4ff7-a69c-49ee2a8228db",
   "metadata": {},
   "outputs": [],
   "source": [
    "special_cases = {\n",
    "    'GLOBAL' : 'Global',\n",
    "    'WB_LMI' : 'Low & Middle Income',\n",
    "    'WB_HI' : 'High Income',\n",
    "    'WB_LI' : 'Low Income',\n",
    "    'EMR' : 'Eastern Mediterranean Region',\n",
    "    'EUR' : 'Europe',\n",
    "    'AFR' : 'Africa',\n",
    "    'SEAR' : 'South-East Asia Region',\n",
    "    'WPR' : 'Western Pacific Region',\n",
    "    'AMR' : 'Americas Region',\n",
    "    'WB_UMI' : 'Upper Middle Income'\n",
    "}\n",
    "\n",
    "def convert_code_to_name(code):\n",
    "    try:\n",
    "        country = pycountry.countries.get(alpha_3=code)\n",
    "        if country:\n",
    "            return country.name\n",
    "        elif code in special_cases:\n",
    "            return special_cases[code]\n",
    "        else:\n",
    "            return 'Unknown'\n",
    "    except:\n",
    "        return 'Unknown'\n",
    "\n",
    "df_obesity['Country'] = df_obesity['Country'].apply(convert_code_to_name)\n",
    "df_malnutrition['Country'] = df_malnutrition['Country'].apply(convert_code_to_name)\n"
   ]
  },
  {
   "cell_type": "code",
   "execution_count": 33,
   "id": "d6772e27-e51c-4e3d-a19e-766966e73178",
   "metadata": {},
   "outputs": [],
   "source": [
    "df_obesity['CI_Width'] = df_obesity['UpperBound'] - df_obesity['LowerBound']\n",
    "df_malnutrition['CI_Width'] = df_malnutrition['UpperBound'] - df_malnutrition['LowerBound']"
   ]
  },
  {
   "cell_type": "code",
   "execution_count": 35,
   "id": "6ceed5bc-9829-4be3-bbc6-46ed951f1c83",
   "metadata": {},
   "outputs": [],
   "source": [
    "def get_obesity_level(numeric_value):\n",
    "    if numeric_value >= 30:\n",
    "        return 'High'\n",
    "    elif 25 <= numeric_value <= 29.9:\n",
    "        return 'Moderate'\n",
    "    elif numeric_value < 25:\n",
    "        return 'Low'\n",
    "    else:\n",
    "        return 'Unknown'\n",
    "\n",
    "df_obesity['obesity_level'] = df_obesity['Mean_Estimate'].apply(get_obesity_level)\n",
    "\n",
    "def get_malnutrition_level(numeric_value):\n",
    "    if numeric_value >= 20:\n",
    "        return 'High'\n",
    "    elif 10 <= numeric_value <= 19.9:\n",
    "        return 'Moderate'\n",
    "    elif numeric_value < 10:\n",
    "        return 'Low'\n",
    "    else:\n",
    "        return 'Unknown'\n",
    "\n",
    "df_malnutrition['malnutrition_level'] = df_malnutrition['Mean_Estimate'].apply(get_malnutrition_level)"
   ]
  },
  {
   "cell_type": "code",
   "execution_count": 37,
   "id": "f7b07f49-8d7f-4a76-9da2-00db150bd1e8",
   "metadata": {},
   "outputs": [
    {
     "data": {
      "text/html": [
       "<div>\n",
       "<style scoped>\n",
       "    .dataframe tbody tr th:only-of-type {\n",
       "        vertical-align: middle;\n",
       "    }\n",
       "\n",
       "    .dataframe tbody tr th {\n",
       "        vertical-align: top;\n",
       "    }\n",
       "\n",
       "    .dataframe thead th {\n",
       "        text-align: right;\n",
       "    }\n",
       "</style>\n",
       "<table border=\"1\" class=\"dataframe\">\n",
       "  <thead>\n",
       "    <tr style=\"text-align: right;\">\n",
       "      <th></th>\n",
       "      <th>Region</th>\n",
       "      <th>Sex</th>\n",
       "      <th>Year</th>\n",
       "      <th>LowerBound</th>\n",
       "      <th>UpperBound</th>\n",
       "      <th>Mean_Estimate</th>\n",
       "      <th>Country</th>\n",
       "      <th>Age_Group</th>\n",
       "      <th>CI_Width</th>\n",
       "      <th>obesity_level</th>\n",
       "    </tr>\n",
       "  </thead>\n",
       "  <tbody>\n",
       "    <tr>\n",
       "      <th>0</th>\n",
       "      <td>Americas</td>\n",
       "      <td>Male</td>\n",
       "      <td>2017</td>\n",
       "      <td>32.93017</td>\n",
       "      <td>40.91354</td>\n",
       "      <td>36.82630</td>\n",
       "      <td>Bahamas</td>\n",
       "      <td>Adult</td>\n",
       "      <td>7.98337</td>\n",
       "      <td>High</td>\n",
       "    </tr>\n",
       "    <tr>\n",
       "      <th>2</th>\n",
       "      <td>Eastern Mediterranean</td>\n",
       "      <td>Male</td>\n",
       "      <td>2020</td>\n",
       "      <td>15.79378</td>\n",
       "      <td>19.24573</td>\n",
       "      <td>17.48764</td>\n",
       "      <td>Iran, Islamic Republic of</td>\n",
       "      <td>Adult</td>\n",
       "      <td>3.45195</td>\n",
       "      <td>Low</td>\n",
       "    </tr>\n",
       "    <tr>\n",
       "      <th>9</th>\n",
       "      <td>Eastern Mediterranean</td>\n",
       "      <td>Male</td>\n",
       "      <td>2020</td>\n",
       "      <td>23.08959</td>\n",
       "      <td>33.81534</td>\n",
       "      <td>28.33553</td>\n",
       "      <td>Iraq</td>\n",
       "      <td>Adult</td>\n",
       "      <td>10.72575</td>\n",
       "      <td>Moderate</td>\n",
       "    </tr>\n",
       "    <tr>\n",
       "      <th>15</th>\n",
       "      <td>Europe</td>\n",
       "      <td>Female</td>\n",
       "      <td>2014</td>\n",
       "      <td>24.92477</td>\n",
       "      <td>31.21326</td>\n",
       "      <td>27.94870</td>\n",
       "      <td>Greenland</td>\n",
       "      <td>Adult</td>\n",
       "      <td>6.28849</td>\n",
       "      <td>Moderate</td>\n",
       "    </tr>\n",
       "    <tr>\n",
       "      <th>17</th>\n",
       "      <td>Europe</td>\n",
       "      <td>Female</td>\n",
       "      <td>2019</td>\n",
       "      <td>28.16068</td>\n",
       "      <td>35.57493</td>\n",
       "      <td>31.89322</td>\n",
       "      <td>Armenia</td>\n",
       "      <td>Adult</td>\n",
       "      <td>7.41425</td>\n",
       "      <td>High</td>\n",
       "    </tr>\n",
       "  </tbody>\n",
       "</table>\n",
       "</div>"
      ],
      "text/plain": [
       "                   Region     Sex  Year  LowerBound  UpperBound  \\\n",
       "0                Americas    Male  2017    32.93017    40.91354   \n",
       "2   Eastern Mediterranean    Male  2020    15.79378    19.24573   \n",
       "9   Eastern Mediterranean    Male  2020    23.08959    33.81534   \n",
       "15                 Europe  Female  2014    24.92477    31.21326   \n",
       "17                 Europe  Female  2019    28.16068    35.57493   \n",
       "\n",
       "    Mean_Estimate                    Country Age_Group  CI_Width obesity_level  \n",
       "0        36.82630                    Bahamas     Adult   7.98337          High  \n",
       "2        17.48764  Iran, Islamic Republic of     Adult   3.45195           Low  \n",
       "9        28.33553                       Iraq     Adult  10.72575      Moderate  \n",
       "15       27.94870                  Greenland     Adult   6.28849      Moderate  \n",
       "17       31.89322                    Armenia     Adult   7.41425          High  "
      ]
     },
     "execution_count": 37,
     "metadata": {},
     "output_type": "execute_result"
    }
   ],
   "source": [
    "df_obesity.head()"
   ]
  },
  {
   "cell_type": "code",
   "execution_count": 39,
   "id": "96920f4d-dfcc-4349-b758-76071b438c35",
   "metadata": {},
   "outputs": [
    {
     "data": {
      "text/html": [
       "<div>\n",
       "<style scoped>\n",
       "    .dataframe tbody tr th:only-of-type {\n",
       "        vertical-align: middle;\n",
       "    }\n",
       "\n",
       "    .dataframe tbody tr th {\n",
       "        vertical-align: top;\n",
       "    }\n",
       "\n",
       "    .dataframe thead th {\n",
       "        text-align: right;\n",
       "    }\n",
       "</style>\n",
       "<table border=\"1\" class=\"dataframe\">\n",
       "  <thead>\n",
       "    <tr style=\"text-align: right;\">\n",
       "      <th></th>\n",
       "      <th>Region</th>\n",
       "      <th>Sex</th>\n",
       "      <th>Year</th>\n",
       "      <th>LowerBound</th>\n",
       "      <th>UpperBound</th>\n",
       "      <th>Mean_Estimate</th>\n",
       "      <th>Country</th>\n",
       "      <th>Age_Group</th>\n",
       "      <th>CI_Width</th>\n",
       "      <th>malnutrition_level</th>\n",
       "    </tr>\n",
       "  </thead>\n",
       "  <tbody>\n",
       "    <tr>\n",
       "      <th>0</th>\n",
       "      <td>Americas</td>\n",
       "      <td>Male</td>\n",
       "      <td>2013</td>\n",
       "      <td>0.94316</td>\n",
       "      <td>1.89881</td>\n",
       "      <td>1.36614</td>\n",
       "      <td>Argentina</td>\n",
       "      <td>Adult</td>\n",
       "      <td>0.95565</td>\n",
       "      <td>Low</td>\n",
       "    </tr>\n",
       "    <tr>\n",
       "      <th>1</th>\n",
       "      <td>Africa</td>\n",
       "      <td>Female</td>\n",
       "      <td>2021</td>\n",
       "      <td>3.97204</td>\n",
       "      <td>8.07702</td>\n",
       "      <td>5.79511</td>\n",
       "      <td>Gabon</td>\n",
       "      <td>Adult</td>\n",
       "      <td>4.10498</td>\n",
       "      <td>Low</td>\n",
       "    </tr>\n",
       "    <tr>\n",
       "      <th>5</th>\n",
       "      <td>Western Pacific</td>\n",
       "      <td>Both</td>\n",
       "      <td>2017</td>\n",
       "      <td>2.42823</td>\n",
       "      <td>3.84215</td>\n",
       "      <td>3.09065</td>\n",
       "      <td>Mongolia</td>\n",
       "      <td>Adult</td>\n",
       "      <td>1.41392</td>\n",
       "      <td>Low</td>\n",
       "    </tr>\n",
       "    <tr>\n",
       "      <th>6</th>\n",
       "      <td>Africa</td>\n",
       "      <td>Female</td>\n",
       "      <td>2016</td>\n",
       "      <td>6.65567</td>\n",
       "      <td>10.25312</td>\n",
       "      <td>8.37172</td>\n",
       "      <td>Sierra Leone</td>\n",
       "      <td>Adult</td>\n",
       "      <td>3.59745</td>\n",
       "      <td>Low</td>\n",
       "    </tr>\n",
       "    <tr>\n",
       "      <th>8</th>\n",
       "      <td>None</td>\n",
       "      <td>Both</td>\n",
       "      <td>2021</td>\n",
       "      <td>12.24232</td>\n",
       "      <td>14.44287</td>\n",
       "      <td>13.33635</td>\n",
       "      <td>South-East Asia Region</td>\n",
       "      <td>Adult</td>\n",
       "      <td>2.20055</td>\n",
       "      <td>Moderate</td>\n",
       "    </tr>\n",
       "  </tbody>\n",
       "</table>\n",
       "</div>"
      ],
      "text/plain": [
       "            Region     Sex  Year  LowerBound  UpperBound  Mean_Estimate  \\\n",
       "0         Americas    Male  2013     0.94316     1.89881        1.36614   \n",
       "1           Africa  Female  2021     3.97204     8.07702        5.79511   \n",
       "5  Western Pacific    Both  2017     2.42823     3.84215        3.09065   \n",
       "6           Africa  Female  2016     6.65567    10.25312        8.37172   \n",
       "8             None    Both  2021    12.24232    14.44287       13.33635   \n",
       "\n",
       "                  Country Age_Group  CI_Width malnutrition_level  \n",
       "0               Argentina     Adult   0.95565                Low  \n",
       "1                   Gabon     Adult   4.10498                Low  \n",
       "5                Mongolia     Adult   1.41392                Low  \n",
       "6            Sierra Leone     Adult   3.59745                Low  \n",
       "8  South-East Asia Region     Adult   2.20055           Moderate  "
      ]
     },
     "execution_count": 39,
     "metadata": {},
     "output_type": "execute_result"
    }
   ],
   "source": [
    "df_malnutrition.head()"
   ]
  },
  {
   "cell_type": "code",
   "execution_count": null,
   "id": "5a479a6e-7bcd-4a82-941c-fdbdf0e02bde",
   "metadata": {},
   "outputs": [],
   "source": []
  }
 ],
 "metadata": {
  "kernelspec": {
   "display_name": "Python [conda env:base] *",
   "language": "python",
   "name": "conda-base-py"
  },
  "language_info": {
   "codemirror_mode": {
    "name": "ipython",
    "version": 3
   },
   "file_extension": ".py",
   "mimetype": "text/x-python",
   "name": "python",
   "nbconvert_exporter": "python",
   "pygments_lexer": "ipython3",
   "version": "3.12.7"
  }
 },
 "nbformat": 4,
 "nbformat_minor": 5
}
